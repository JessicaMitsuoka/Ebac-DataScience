{
 "cells": [
  {
   "cell_type": "markdown",
   "metadata": {},
   "source": [
    "# Cálculo - Tarefa 01\n",
    "\n",
    "1. Marque quais desses métodos/algoritmos muito populares em ciência de dados são baseados no uso de derivada:\n",
    "\n",
    "    1. Método Mínimos Quadrados\n",
    "    2. Gradiente descendente\n",
    "    3. Newton Raphson\n",
    "    4. CART (Árvore de decisão)"
   ]
  },
  {
   "cell_type": "markdown",
   "metadata": {},
   "source": [
    "##### 1.**Método dos Mínimos Quadrados** :\n",
    "- **Baseado em derivadas?** Sim.\n",
    "  O método dos mínimos quadrados é usado para ajustar modelos de regressão, minimizando a soma dos quadrados dos resíduos. A solução analítica envolve o cálculo de derivadas para encontrar o mínimo da função de custo.\n",
    "\n",
    "##### 2.**Gradiente Descendente** :\n",
    "- **Baseado em derivadas?** Sim.\n",
    "  O gradiente descendente é um algoritmo de otimização que usa derivadas (gradientes) para encontrar o mínimo de uma função. Ele atualiza os parâmetros iterativamente na direção oposta ao gradiente da função de custo.\n",
    "\n",
    "##### 3.**Newton-Raphson** :\n",
    "- **Baseado em derivadas?** Sim.\n",
    "  O método de Newton-Raphson é um algoritmo iterativo para encontrar raízes de uma função e usa a derivada da função para ajustar a aproximação da raiz.\n",
    "\n",
    "##### 4. **CART (Árvore de Decisão)** :\n",
    "- **Baseado em derivadas?** Não.\n",
    "  O algoritmo CART (Classification and Regression Trees) constrói árvores de decisão com base em divisões recursivas dos dados, usando critérios como o índice Gini ou entropia para classificação, e variância para regressão. Ele não envolve o uso de derivadas."
   ]
  },
  {
   "cell_type": "markdown",
   "metadata": {},
   "source": [
    "2. Dada uma base de dados com uma variável resposta $y$ e um conjunto de variáveis explicativas. Considere uma estrutura de um modelo de regressão. Explique com suas palavras por que não é possível obter parâmetros que forneçam um erro quadrático médio (EQM) menor que o obtido com estimadores de mínimos quadrados.\n",
    "\n",
    "Os estimadores de mínimos quadrados minimizam a soma dos quadrados dos resíduos, fornecendo a solução mais eficiente para reduzir o erro quadrático médio (EQM) em modelos lineares. Sob as premissas do modelo linear clássico, não é possível encontrar parâmetros que resultem em um EQM menor sem violar essas condições.Isso destaca a robustez e a eficácia dos estimadores de mínimos quadrados no contexto de modelos lineares."
   ]
  }
 ],
 "metadata": {
  "kernelspec": {
   "display_name": "Python [conda env:base] *",
   "language": "python",
   "name": "conda-base-py"
  },
  "language_info": {
   "codemirror_mode": {
    "name": "ipython",
    "version": 3
   },
   "file_extension": ".py",
   "mimetype": "text/x-python",
   "name": "python",
   "nbconvert_exporter": "python",
   "pygments_lexer": "ipython3",
   "version": "3.12.7"
  },
  "toc": {
   "base_numbering": 1,
   "nav_menu": {},
   "number_sections": true,
   "sideBar": true,
   "skip_h1_title": true,
   "title_cell": "Índice",
   "title_sidebar": "Conteúdo",
   "toc_cell": false,
   "toc_position": {},
   "toc_section_display": true,
   "toc_window_display": false
  },
  "varInspector": {
   "cols": {
    "lenName": 16,
    "lenType": 16,
    "lenVar": 40
   },
   "kernels_config": {
    "python": {
     "delete_cmd_postfix": "",
     "delete_cmd_prefix": "del ",
     "library": "var_list.py",
     "varRefreshCmd": "print(var_dic_list())"
    },
    "r": {
     "delete_cmd_postfix": ") ",
     "delete_cmd_prefix": "rm(",
     "library": "var_list.r",
     "varRefreshCmd": "cat(var_dic_list()) "
    }
   },
   "types_to_exclude": [
    "module",
    "function",
    "builtin_function_or_method",
    "instance",
    "_Feature"
   ],
   "window_display": false
  }
 },
 "nbformat": 4,
 "nbformat_minor": 4
}
