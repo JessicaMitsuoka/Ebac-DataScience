{
 "cells": [
  {
   "cell_type": "markdown",
   "id": "b27a415f-73fc-4f8c-b79b-3d7d913b9c7d",
   "metadata": {},
   "source": [
    "# Tarefa2"
   ]
  },
  {
   "cell_type": "markdown",
   "id": "1b17e542-98fa-4ac2-b175-bd77676b34a6",
   "metadata": {},
   "source": [
    "## 1. Monte um passo a passo para o algoritmo RF\n",
    "\n",
    "### Passo 1: Importar Bibliotecas\n",
    "\n",
    "Importe as bibliotecas necessárias para o projeto.\n",
    "\n",
    "### Passo 2: Carregar o Conjunto de Dados\n",
    "\n",
    "Carregue o conjunto de dados com o qual deseja trabalhar.\n",
    "\n",
    "### Passo 3: Dividir o Conjunto de Dados em Treino e Teste\n",
    "\n",
    "Divida o conjunto de dados em conjuntos de treino e teste para avaliar o desempenho do modelo.\n",
    "\n",
    "### Passo 4: Criar e Treinar o Modelo de Random Forest\n",
    "\n",
    "Escolha o modelo Random Forest da biblioteca scikit-learn (ou outra biblioteca que esteja utilizando) e ajuste os parâmetros conforme necessário. Treine o modelo no conjunto de treino.\n",
    "\n",
    "### Passo 5: Fazer Previsões\n",
    "\n",
    "Utilize o modelo treinado para fazer previsões no conjunto de teste.\n",
    "\n",
    "### Passo 6: Avaliar o Desempenho do Modelo\n",
    "\n",
    "Avalie o desempenho do modelo utilizando métricas apropriadas, como acurácia, para problemas de classificação.\n",
    "\n",
    "### Passo 7: Otimização \n",
    "\n",
    "Ajustar os hiperparâmetros do modelo, como o número de árvores ou a profundidade máxima, para otimizar o desempenho."
   ]
  },
  {
   "cell_type": "markdown",
   "id": "ab08cde1-b5f6-42cd-ae82-ba1bb1e98a12",
   "metadata": {},
   "source": [
    "## 2. Explique com suas palavras o random forest\n",
    "\n",
    "Random Forest é um algoritmo de Machine Learning do tipo ensemble, baseado em múltiplas árvores de decisão. Ele é amplamente utilizado para problemas de classificação e regressão, ele é treinado com uma quantidade determinada e aleatória de variáveis, diminuindo a chance de overfitting."
   ]
  },
  {
   "cell_type": "markdown",
   "id": "7bfdde99-0901-4725-bd1b-58863f031cbe",
   "metadata": {},
   "source": [
    "## 3. Qual a diferença entre bagging e random forest?\n",
    "\n",
    "O Bagging cria versões diferentes dos dados para treinar múltiplos modelos, enquanto o Random Forest adiciona aleatoriedade na escolha das variáveis, tornando as árvores menos correlacionadas e resulta em um modelo de desempenho melhor e uma maior resistência ao overfitting."
   ]
  },
  {
   "cell_type": "markdown",
   "id": "0437bcce-78aa-464d-bf2e-ddd53a4f1894",
   "metadata": {},
   "source": [
    "## 4. (Opcional) Implementar em python o Random Forest\n",
    "- Bootstrap\n",
    "- Feature selection\n",
    "- Modelagem com Decision trees– Agregação"
   ]
  },
  {
   "cell_type": "code",
   "execution_count": 27,
   "id": "bda0db27-6002-4ac3-bfe5-16951d0adabd",
   "metadata": {},
   "outputs": [],
   "source": [
    "from sklearn.ensemble import RandomForestClassifier\n",
    "from sklearn.datasets import load_iris\n",
    "from sklearn.model_selection import train_test_split\n",
    "from sklearn.metrics import accuracy_score"
   ]
  },
  {
   "cell_type": "code",
   "execution_count": 34,
   "id": "8872b99d-0087-4fc1-8ab1-9e9359e11b3b",
   "metadata": {},
   "outputs": [
    {
     "name": "stdout",
     "output_type": "stream",
     "text": [
      "Acurácia do Random Forest: 100.00%\n"
     ]
    }
   ],
   "source": [
    "data = load_iris()\n",
    "X, y = data.data, data.target\n",
    "\n",
    "X_train, X_test, y_train, y_test = train_test_split(X, y, test_size=0.3, random_state=42)\n",
    "\n",
    "rf = RandomForestClassifier(n_estimators=10, random_state=42) \n",
    "rf.fit(X_train, y_train)\n",
    "\n",
    "y_pred = rf.predict(X_test)\n",
    "\n",
    "accuracy = accuracy_score(y_test, y_pred)\n",
    "print(f\"Acurácia do Random Forest: {accuracy * 100:.2f}%\")"
   ]
  }
 ],
 "metadata": {
  "kernelspec": {
   "display_name": "Python [conda env:base] *",
   "language": "python",
   "name": "conda-base-py"
  },
  "language_info": {
   "codemirror_mode": {
    "name": "ipython",
    "version": 3
   },
   "file_extension": ".py",
   "mimetype": "text/x-python",
   "name": "python",
   "nbconvert_exporter": "python",
   "pygments_lexer": "ipython3",
   "version": "3.12.7"
  }
 },
 "nbformat": 4,
 "nbformat_minor": 5
}
