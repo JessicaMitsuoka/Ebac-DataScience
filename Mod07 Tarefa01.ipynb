{
 "cells": [
  {
   "cell_type": "markdown",
   "metadata": {
    "id": "d8yCrvnM_2sd"
   },
   "source": [
    "# Módulo 07, Tarefa 01\n",
    "\n",
    "Vamos começar a mexer na nossa base de projeto? Já fizemos um exercício de montar a variável resposta, já pudemos perceber que essa atividade pode não ser trivial. Vamos agora trabalhar a base para que fique propícia ao *scikitlearn* para trabalharmos.\n",
    "\n",
    "Lembrando, a base se chama demo01.csv, e originalmente está publicada [aqui](https://www.kaggle.com/rikdifos/credit-card-approval-prediction)."
   ]
  },
  {
   "cell_type": "markdown",
   "metadata": {
    "id": "hcMBVVE8_2sg"
   },
   "source": [
    "#### 1) Carregue a base e avalie:\n",
    "\n",
    "- As variáveis\n",
    "- Tipos de dados de cada variável\n",
    "- Quantidade de missings\n",
    "- Distribuição da variável resposta (mau)"
   ]
  },
  {
   "cell_type": "code",
   "execution_count": 183,
   "metadata": {
    "id": "jfUxW_PX_2sh"
   },
   "outputs": [],
   "source": [
    "import numpy as np\n",
    "import pandas as pd\n",
    "import seaborn as sns"
   ]
  },
  {
   "cell_type": "code",
   "execution_count": 184,
   "metadata": {},
   "outputs": [
    {
     "name": "stdout",
     "output_type": "stream",
     "text": [
      "<class 'pandas.core.frame.DataFrame'>\n",
      "RangeIndex: 16650 entries, 0 to 16649\n",
      "Data columns (total 16 columns):\n",
      " #   Column                 Non-Null Count  Dtype  \n",
      "---  ------                 --------------  -----  \n",
      " 0   sexo                   16650 non-null  object \n",
      " 1   posse_de_veiculo       16650 non-null  object \n",
      " 2   posse_de_imovel        16650 non-null  object \n",
      " 3   qtd_filhos             16650 non-null  int64  \n",
      " 4   tipo_renda             16650 non-null  object \n",
      " 5   educacao               16650 non-null  object \n",
      " 6   estado_civil           16650 non-null  object \n",
      " 7   tipo_residencia        16650 non-null  object \n",
      " 8   idade                  16650 non-null  float64\n",
      " 9   tempo_emprego          16650 non-null  float64\n",
      " 10  possui_celular         16650 non-null  int64  \n",
      " 11  possui_fone_comercial  16650 non-null  int64  \n",
      " 12  possui_fone            16650 non-null  int64  \n",
      " 13  possui_email           16650 non-null  int64  \n",
      " 14  qt_pessoas_residencia  16650 non-null  float64\n",
      " 15  mau                    16650 non-null  bool   \n",
      "dtypes: bool(1), float64(3), int64(5), object(7)\n",
      "memory usage: 1.9+ MB\n"
     ]
    }
   ],
   "source": [
    "df = pd.read_csv('demo01.csv')\n",
    "\n",
    "df.info()"
   ]
  },
  {
   "cell_type": "code",
   "execution_count": 185,
   "metadata": {},
   "outputs": [
    {
     "data": {
      "text/plain": [
       "sexo                     0\n",
       "posse_de_veiculo         0\n",
       "posse_de_imovel          0\n",
       "qtd_filhos               0\n",
       "tipo_renda               0\n",
       "educacao                 0\n",
       "estado_civil             0\n",
       "tipo_residencia          0\n",
       "idade                    0\n",
       "tempo_emprego            0\n",
       "possui_celular           0\n",
       "possui_fone_comercial    0\n",
       "possui_fone              0\n",
       "possui_email             0\n",
       "qt_pessoas_residencia    0\n",
       "mau                      0\n",
       "dtype: int64"
      ]
     },
     "execution_count": 185,
     "metadata": {},
     "output_type": "execute_result"
    }
   ],
   "source": [
    "df.isna().sum()"
   ]
  },
  {
   "cell_type": "code",
   "execution_count": 186,
   "metadata": {},
   "outputs": [
    {
     "data": {
      "text/plain": [
       "mau\n",
       "False    16260\n",
       "True       390\n",
       "Name: count, dtype: int64"
      ]
     },
     "execution_count": 186,
     "metadata": {},
     "output_type": "execute_result"
    }
   ],
   "source": [
    "df['mau'].value_counts()"
   ]
  },
  {
   "cell_type": "code",
   "execution_count": 187,
   "metadata": {},
   "outputs": [
    {
     "data": {
      "text/plain": [
       "mau\n",
       "False    0.976577\n",
       "True     0.023423\n",
       "Name: proportion, dtype: float64"
      ]
     },
     "execution_count": 187,
     "metadata": {},
     "output_type": "execute_result"
    }
   ],
   "source": [
    "df['mau'].value_counts(normalize = True)"
   ]
  },
  {
   "cell_type": "markdown",
   "metadata": {
    "id": "_v0f02mE_2si"
   },
   "source": [
    "#### 2) Vamos montar um metadados\n",
    "\n",
    "1. Crie um dataframe com os nomes de cada variável e o tipo de dados de cada variável.\n",
    "2. Adicione uma coluna nesse *dataframe* chamada \"qtd_categorias\" e coloque nela o número de categorias correspondente de cada variável.\n",
    "    Dica:\n",
    "        1. inicie uma lista vazia\n",
    "        2. faça um for ao longo dos nomes das variáveis,\n",
    "        3. conte o número de categorias dessa variável\n",
    "        4. acumule essa informação de 3. na lista que você criou em 1.\n",
    "        5. No final, essa lista pode ser atribuída à nossa variável."
   ]
  },
  {
   "cell_type": "code",
   "execution_count": 188,
   "metadata": {
    "id": "gNF5BRdA_2si"
   },
   "outputs": [],
   "source": [
    "col_names = df.columns.tolist()\n",
    "col_types = df.dtypes.tolist()"
   ]
  },
  {
   "cell_type": "code",
   "execution_count": 189,
   "metadata": {},
   "outputs": [
    {
     "data": {
      "text/plain": [
       "[2, 2, 2, 8, 5, 5, 5, 6, 5298, 3005, 1, 2, 2, 2, 9, 2]"
      ]
     },
     "execution_count": 189,
     "metadata": {},
     "output_type": "execute_result"
    }
   ],
   "source": [
    "qtd_categorias = [len(df[col].unique()) for col in col_names]\n",
    "qtd_categorias"
   ]
  },
  {
   "cell_type": "code",
   "execution_count": 190,
   "metadata": {},
   "outputs": [
    {
     "data": {
      "text/html": [
       "<div>\n",
       "<style scoped>\n",
       "    .dataframe tbody tr th:only-of-type {\n",
       "        vertical-align: middle;\n",
       "    }\n",
       "\n",
       "    .dataframe tbody tr th {\n",
       "        vertical-align: top;\n",
       "    }\n",
       "\n",
       "    .dataframe thead th {\n",
       "        text-align: right;\n",
       "    }\n",
       "</style>\n",
       "<table border=\"1\" class=\"dataframe\">\n",
       "  <thead>\n",
       "    <tr style=\"text-align: right;\">\n",
       "      <th></th>\n",
       "      <th>Variavel</th>\n",
       "      <th>Tipo de Dados</th>\n",
       "      <th>qtd_categorias</th>\n",
       "    </tr>\n",
       "  </thead>\n",
       "  <tbody>\n",
       "    <tr>\n",
       "      <th>0</th>\n",
       "      <td>sexo</td>\n",
       "      <td>object</td>\n",
       "      <td>2</td>\n",
       "    </tr>\n",
       "    <tr>\n",
       "      <th>1</th>\n",
       "      <td>posse_de_veiculo</td>\n",
       "      <td>object</td>\n",
       "      <td>2</td>\n",
       "    </tr>\n",
       "    <tr>\n",
       "      <th>2</th>\n",
       "      <td>posse_de_imovel</td>\n",
       "      <td>object</td>\n",
       "      <td>2</td>\n",
       "    </tr>\n",
       "    <tr>\n",
       "      <th>3</th>\n",
       "      <td>qtd_filhos</td>\n",
       "      <td>int64</td>\n",
       "      <td>8</td>\n",
       "    </tr>\n",
       "    <tr>\n",
       "      <th>4</th>\n",
       "      <td>tipo_renda</td>\n",
       "      <td>object</td>\n",
       "      <td>5</td>\n",
       "    </tr>\n",
       "    <tr>\n",
       "      <th>5</th>\n",
       "      <td>educacao</td>\n",
       "      <td>object</td>\n",
       "      <td>5</td>\n",
       "    </tr>\n",
       "    <tr>\n",
       "      <th>6</th>\n",
       "      <td>estado_civil</td>\n",
       "      <td>object</td>\n",
       "      <td>5</td>\n",
       "    </tr>\n",
       "    <tr>\n",
       "      <th>7</th>\n",
       "      <td>tipo_residencia</td>\n",
       "      <td>object</td>\n",
       "      <td>6</td>\n",
       "    </tr>\n",
       "    <tr>\n",
       "      <th>8</th>\n",
       "      <td>idade</td>\n",
       "      <td>float64</td>\n",
       "      <td>5298</td>\n",
       "    </tr>\n",
       "    <tr>\n",
       "      <th>9</th>\n",
       "      <td>tempo_emprego</td>\n",
       "      <td>float64</td>\n",
       "      <td>3005</td>\n",
       "    </tr>\n",
       "    <tr>\n",
       "      <th>10</th>\n",
       "      <td>possui_celular</td>\n",
       "      <td>int64</td>\n",
       "      <td>1</td>\n",
       "    </tr>\n",
       "    <tr>\n",
       "      <th>11</th>\n",
       "      <td>possui_fone_comercial</td>\n",
       "      <td>int64</td>\n",
       "      <td>2</td>\n",
       "    </tr>\n",
       "    <tr>\n",
       "      <th>12</th>\n",
       "      <td>possui_fone</td>\n",
       "      <td>int64</td>\n",
       "      <td>2</td>\n",
       "    </tr>\n",
       "    <tr>\n",
       "      <th>13</th>\n",
       "      <td>possui_email</td>\n",
       "      <td>int64</td>\n",
       "      <td>2</td>\n",
       "    </tr>\n",
       "    <tr>\n",
       "      <th>14</th>\n",
       "      <td>qt_pessoas_residencia</td>\n",
       "      <td>float64</td>\n",
       "      <td>9</td>\n",
       "    </tr>\n",
       "    <tr>\n",
       "      <th>15</th>\n",
       "      <td>mau</td>\n",
       "      <td>bool</td>\n",
       "      <td>2</td>\n",
       "    </tr>\n",
       "  </tbody>\n",
       "</table>\n",
       "</div>"
      ],
      "text/plain": [
       "                 Variavel Tipo de Dados  qtd_categorias\n",
       "0                    sexo        object               2\n",
       "1        posse_de_veiculo        object               2\n",
       "2         posse_de_imovel        object               2\n",
       "3              qtd_filhos         int64               8\n",
       "4              tipo_renda        object               5\n",
       "5                educacao        object               5\n",
       "6            estado_civil        object               5\n",
       "7         tipo_residencia        object               6\n",
       "8                   idade       float64            5298\n",
       "9           tempo_emprego       float64            3005\n",
       "10         possui_celular         int64               1\n",
       "11  possui_fone_comercial         int64               2\n",
       "12            possui_fone         int64               2\n",
       "13           possui_email         int64               2\n",
       "14  qt_pessoas_residencia       float64               9\n",
       "15                    mau          bool               2"
      ]
     },
     "execution_count": 190,
     "metadata": {},
     "output_type": "execute_result"
    }
   ],
   "source": [
    "info_df = pd.DataFrame({\n",
    "    'Variavel': col_names,\n",
    "    'Tipo de Dados': col_types,\n",
    "    'qtd_categorias': qtd_categorias\n",
    "})\n",
    "\n",
    "info_df"
   ]
  },
  {
   "cell_type": "code",
   "execution_count": 191,
   "metadata": {},
   "outputs": [
    {
     "name": "stderr",
     "output_type": "stream",
     "text": [
      "/tmp/ipykernel_144/45091212.py:1: DeprecationWarning: Converting `np.inexact` or `np.floating` to a dtype is deprecated. The current result is `float64` which is not strictly correct.\n",
      "  qualitative_vars = info_df[info_df['Tipo de Dados'].apply(lambda x: x not in[np.number])]['Variavel']\n"
     ]
    }
   ],
   "source": [
    "qualitative_vars = info_df[info_df['Tipo de Dados'].apply(lambda x: x not in[np.number])]['Variavel']"
   ]
  },
  {
   "cell_type": "code",
   "execution_count": 192,
   "metadata": {},
   "outputs": [
    {
     "data": {
      "text/html": [
       "<div>\n",
       "<style scoped>\n",
       "    .dataframe tbody tr th:only-of-type {\n",
       "        vertical-align: middle;\n",
       "    }\n",
       "\n",
       "    .dataframe tbody tr th {\n",
       "        vertical-align: top;\n",
       "    }\n",
       "\n",
       "    .dataframe thead th {\n",
       "        text-align: right;\n",
       "    }\n",
       "</style>\n",
       "<table border=\"1\" class=\"dataframe\">\n",
       "  <thead>\n",
       "    <tr style=\"text-align: right;\">\n",
       "      <th></th>\n",
       "      <th>qtd_filhos</th>\n",
       "      <th>possui_celular</th>\n",
       "      <th>possui_fone_comercial</th>\n",
       "      <th>possui_fone</th>\n",
       "      <th>possui_email</th>\n",
       "      <th>mau</th>\n",
       "      <th>sexo_F</th>\n",
       "      <th>sexo_M</th>\n",
       "      <th>posse_de_veiculo_N</th>\n",
       "      <th>posse_de_veiculo_Y</th>\n",
       "      <th>...</th>\n",
       "      <th>estado_civil_Married</th>\n",
       "      <th>estado_civil_Separated</th>\n",
       "      <th>estado_civil_Single / not married</th>\n",
       "      <th>estado_civil_Widow</th>\n",
       "      <th>tipo_residencia_Co-op apartment</th>\n",
       "      <th>tipo_residencia_House / apartment</th>\n",
       "      <th>tipo_residencia_Municipal apartment</th>\n",
       "      <th>tipo_residencia_Office apartment</th>\n",
       "      <th>tipo_residencia_Rented apartment</th>\n",
       "      <th>tipo_residencia_With parents</th>\n",
       "    </tr>\n",
       "  </thead>\n",
       "  <tbody>\n",
       "    <tr>\n",
       "      <th>0</th>\n",
       "      <td>0</td>\n",
       "      <td>1</td>\n",
       "      <td>0</td>\n",
       "      <td>0</td>\n",
       "      <td>0</td>\n",
       "      <td>False</td>\n",
       "      <td>False</td>\n",
       "      <td>True</td>\n",
       "      <td>False</td>\n",
       "      <td>True</td>\n",
       "      <td>...</td>\n",
       "      <td>True</td>\n",
       "      <td>False</td>\n",
       "      <td>False</td>\n",
       "      <td>False</td>\n",
       "      <td>False</td>\n",
       "      <td>True</td>\n",
       "      <td>False</td>\n",
       "      <td>False</td>\n",
       "      <td>False</td>\n",
       "      <td>False</td>\n",
       "    </tr>\n",
       "    <tr>\n",
       "      <th>1</th>\n",
       "      <td>0</td>\n",
       "      <td>1</td>\n",
       "      <td>0</td>\n",
       "      <td>1</td>\n",
       "      <td>1</td>\n",
       "      <td>False</td>\n",
       "      <td>True</td>\n",
       "      <td>False</td>\n",
       "      <td>True</td>\n",
       "      <td>False</td>\n",
       "      <td>...</td>\n",
       "      <td>False</td>\n",
       "      <td>False</td>\n",
       "      <td>True</td>\n",
       "      <td>False</td>\n",
       "      <td>False</td>\n",
       "      <td>True</td>\n",
       "      <td>False</td>\n",
       "      <td>False</td>\n",
       "      <td>False</td>\n",
       "      <td>False</td>\n",
       "    </tr>\n",
       "    <tr>\n",
       "      <th>2</th>\n",
       "      <td>0</td>\n",
       "      <td>1</td>\n",
       "      <td>0</td>\n",
       "      <td>1</td>\n",
       "      <td>1</td>\n",
       "      <td>False</td>\n",
       "      <td>True</td>\n",
       "      <td>False</td>\n",
       "      <td>True</td>\n",
       "      <td>False</td>\n",
       "      <td>...</td>\n",
       "      <td>False</td>\n",
       "      <td>False</td>\n",
       "      <td>True</td>\n",
       "      <td>False</td>\n",
       "      <td>False</td>\n",
       "      <td>True</td>\n",
       "      <td>False</td>\n",
       "      <td>False</td>\n",
       "      <td>False</td>\n",
       "      <td>False</td>\n",
       "    </tr>\n",
       "    <tr>\n",
       "      <th>3</th>\n",
       "      <td>0</td>\n",
       "      <td>1</td>\n",
       "      <td>1</td>\n",
       "      <td>1</td>\n",
       "      <td>1</td>\n",
       "      <td>False</td>\n",
       "      <td>False</td>\n",
       "      <td>True</td>\n",
       "      <td>False</td>\n",
       "      <td>True</td>\n",
       "      <td>...</td>\n",
       "      <td>True</td>\n",
       "      <td>False</td>\n",
       "      <td>False</td>\n",
       "      <td>False</td>\n",
       "      <td>False</td>\n",
       "      <td>True</td>\n",
       "      <td>False</td>\n",
       "      <td>False</td>\n",
       "      <td>False</td>\n",
       "      <td>False</td>\n",
       "    </tr>\n",
       "    <tr>\n",
       "      <th>4</th>\n",
       "      <td>0</td>\n",
       "      <td>1</td>\n",
       "      <td>0</td>\n",
       "      <td>0</td>\n",
       "      <td>0</td>\n",
       "      <td>False</td>\n",
       "      <td>True</td>\n",
       "      <td>False</td>\n",
       "      <td>False</td>\n",
       "      <td>True</td>\n",
       "      <td>...</td>\n",
       "      <td>True</td>\n",
       "      <td>False</td>\n",
       "      <td>False</td>\n",
       "      <td>False</td>\n",
       "      <td>False</td>\n",
       "      <td>True</td>\n",
       "      <td>False</td>\n",
       "      <td>False</td>\n",
       "      <td>False</td>\n",
       "      <td>False</td>\n",
       "    </tr>\n",
       "  </tbody>\n",
       "</table>\n",
       "<p>5 rows × 33 columns</p>\n",
       "</div>"
      ],
      "text/plain": [
       "   qtd_filhos  possui_celular  possui_fone_comercial  possui_fone  \\\n",
       "0           0               1                      0            0   \n",
       "1           0               1                      0            1   \n",
       "2           0               1                      0            1   \n",
       "3           0               1                      1            1   \n",
       "4           0               1                      0            0   \n",
       "\n",
       "   possui_email    mau  sexo_F  sexo_M  posse_de_veiculo_N  \\\n",
       "0             0  False   False    True               False   \n",
       "1             1  False    True   False                True   \n",
       "2             1  False    True   False                True   \n",
       "3             1  False   False    True               False   \n",
       "4             0  False    True   False               False   \n",
       "\n",
       "   posse_de_veiculo_Y  ...  estado_civil_Married  estado_civil_Separated  \\\n",
       "0                True  ...                  True                   False   \n",
       "1               False  ...                 False                   False   \n",
       "2               False  ...                 False                   False   \n",
       "3                True  ...                  True                   False   \n",
       "4                True  ...                  True                   False   \n",
       "\n",
       "   estado_civil_Single / not married  estado_civil_Widow  \\\n",
       "0                              False               False   \n",
       "1                               True               False   \n",
       "2                               True               False   \n",
       "3                              False               False   \n",
       "4                              False               False   \n",
       "\n",
       "   tipo_residencia_Co-op apartment  tipo_residencia_House / apartment  \\\n",
       "0                            False                               True   \n",
       "1                            False                               True   \n",
       "2                            False                               True   \n",
       "3                            False                               True   \n",
       "4                            False                               True   \n",
       "\n",
       "   tipo_residencia_Municipal apartment  tipo_residencia_Office apartment  \\\n",
       "0                                False                             False   \n",
       "1                                False                             False   \n",
       "2                                False                             False   \n",
       "3                                False                             False   \n",
       "4                                False                             False   \n",
       "\n",
       "   tipo_residencia_Rented apartment  tipo_residencia_With parents  \n",
       "0                             False                         False  \n",
       "1                             False                         False  \n",
       "2                             False                         False  \n",
       "3                             False                         False  \n",
       "4                             False                         False  \n",
       "\n",
       "[5 rows x 33 columns]"
      ]
     },
     "execution_count": 192,
     "metadata": {},
     "output_type": "execute_result"
    }
   ],
   "source": [
    "dummy_vars = pd.get_dummies(df[qualitative_vars])\n",
    "dummy_vars.head()"
   ]
  },
  {
   "cell_type": "code",
   "execution_count": 201,
   "metadata": {},
   "outputs": [],
   "source": [
    "df = pd.concat([df, dummy_vars], axis = 1)"
   ]
  },
  {
   "cell_type": "code",
   "execution_count": 202,
   "metadata": {},
   "outputs": [
    {
     "data": {
      "text/plain": [
       "Index(['sexo', 'posse_de_veiculo', 'posse_de_imovel', 'qtd_filhos',\n",
       "       'tipo_renda', 'educacao', 'estado_civil', 'tipo_residencia', 'idade',\n",
       "       'tempo_emprego', 'possui_celular', 'possui_fone_comercial',\n",
       "       'possui_fone', 'possui_email', 'qt_pessoas_residencia', 'mau',\n",
       "       'qtd_filhos', 'possui_celular', 'possui_fone_comercial', 'possui_fone',\n",
       "       'possui_email', 'mau', 'sexo_F', 'sexo_M', 'posse_de_veiculo_N',\n",
       "       'posse_de_veiculo_Y', 'posse_de_imovel_N', 'posse_de_imovel_Y',\n",
       "       'tipo_renda_Commercial associate', 'tipo_renda_Pensioner',\n",
       "       'tipo_renda_State servant', 'tipo_renda_Student', 'tipo_renda_Working',\n",
       "       'educacao_Academic degree', 'educacao_Higher education',\n",
       "       'educacao_Incomplete higher', 'educacao_Lower secondary',\n",
       "       'educacao_Secondary / secondary special', 'estado_civil_Civil marriage',\n",
       "       'estado_civil_Married', 'estado_civil_Separated',\n",
       "       'estado_civil_Single / not married', 'estado_civil_Widow',\n",
       "       'tipo_residencia_Co-op apartment', 'tipo_residencia_House / apartment',\n",
       "       'tipo_residencia_Municipal apartment',\n",
       "       'tipo_residencia_Office apartment', 'tipo_residencia_Rented apartment',\n",
       "       'tipo_residencia_With parents', 'possui_celular',\n",
       "       'possui_fone_comercial', 'possui_fone', 'possui_email', 'mau', 'sexo_F',\n",
       "       'sexo_M', 'posse_de_veiculo_N', 'posse_de_veiculo_Y',\n",
       "       'posse_de_imovel_N', 'posse_de_imovel_Y',\n",
       "       'tipo_renda_Commercial associate', 'tipo_renda_Pensioner',\n",
       "       'tipo_renda_State servant', 'tipo_renda_Student', 'tipo_renda_Working',\n",
       "       'educacao_Academic degree', 'educacao_Higher education',\n",
       "       'educacao_Incomplete higher', 'educacao_Lower secondary',\n",
       "       'educacao_Secondary / secondary special', 'estado_civil_Civil marriage',\n",
       "       'estado_civil_Married', 'estado_civil_Separated',\n",
       "       'estado_civil_Single / not married', 'estado_civil_Widow',\n",
       "       'tipo_residencia_Co-op apartment', 'tipo_residencia_House / apartment',\n",
       "       'tipo_residencia_Municipal apartment',\n",
       "       'tipo_residencia_Office apartment', 'tipo_residencia_Rented apartment',\n",
       "       'tipo_residencia_With parents'],\n",
       "      dtype='object')"
      ]
     },
     "execution_count": 202,
     "metadata": {},
     "output_type": "execute_result"
    }
   ],
   "source": [
    "df.columns"
   ]
  },
  {
   "cell_type": "markdown",
   "metadata": {
    "id": "h0XKJFhY_2si"
   },
   "source": [
    "#### 3) Crie variáveis dummy para as variáveis necessárias (i.e. aquelas que são qualitativas e não estão armazenadas como {0, 1} ou {True, False}. Crie um *dataframe* apenas com as variáveis apropriadas para entrada no scikitlearn - elimine as variáveis tipo *str*, mantendo apenas suas versões *dummy*."
   ]
  },
  {
   "cell_type": "code",
   "execution_count": 194,
   "metadata": {
    "id": "ePbdZDOi_2sj"
   },
   "outputs": [
    {
     "data": {
      "text/html": [
       "<div>\n",
       "<style scoped>\n",
       "    .dataframe tbody tr th:only-of-type {\n",
       "        vertical-align: middle;\n",
       "    }\n",
       "\n",
       "    .dataframe tbody tr th {\n",
       "        vertical-align: top;\n",
       "    }\n",
       "\n",
       "    .dataframe thead th {\n",
       "        text-align: right;\n",
       "    }\n",
       "</style>\n",
       "<table border=\"1\" class=\"dataframe\">\n",
       "  <thead>\n",
       "    <tr style=\"text-align: right;\">\n",
       "      <th></th>\n",
       "      <th>qtd_filhos</th>\n",
       "      <th>possui_celular</th>\n",
       "      <th>possui_fone_comercial</th>\n",
       "      <th>possui_fone</th>\n",
       "      <th>possui_email</th>\n",
       "      <th>mau</th>\n",
       "      <th>sexo_F</th>\n",
       "      <th>sexo_M</th>\n",
       "      <th>posse_de_veiculo_N</th>\n",
       "      <th>posse_de_veiculo_Y</th>\n",
       "      <th>...</th>\n",
       "      <th>estado_civil_Married</th>\n",
       "      <th>estado_civil_Separated</th>\n",
       "      <th>estado_civil_Single / not married</th>\n",
       "      <th>estado_civil_Widow</th>\n",
       "      <th>tipo_residencia_Co-op apartment</th>\n",
       "      <th>tipo_residencia_House / apartment</th>\n",
       "      <th>tipo_residencia_Municipal apartment</th>\n",
       "      <th>tipo_residencia_Office apartment</th>\n",
       "      <th>tipo_residencia_Rented apartment</th>\n",
       "      <th>tipo_residencia_With parents</th>\n",
       "    </tr>\n",
       "  </thead>\n",
       "  <tbody>\n",
       "    <tr>\n",
       "      <th>0</th>\n",
       "      <td>0</td>\n",
       "      <td>1</td>\n",
       "      <td>0</td>\n",
       "      <td>0</td>\n",
       "      <td>0</td>\n",
       "      <td>False</td>\n",
       "      <td>False</td>\n",
       "      <td>True</td>\n",
       "      <td>False</td>\n",
       "      <td>True</td>\n",
       "      <td>...</td>\n",
       "      <td>True</td>\n",
       "      <td>False</td>\n",
       "      <td>False</td>\n",
       "      <td>False</td>\n",
       "      <td>False</td>\n",
       "      <td>True</td>\n",
       "      <td>False</td>\n",
       "      <td>False</td>\n",
       "      <td>False</td>\n",
       "      <td>False</td>\n",
       "    </tr>\n",
       "    <tr>\n",
       "      <th>1</th>\n",
       "      <td>0</td>\n",
       "      <td>1</td>\n",
       "      <td>0</td>\n",
       "      <td>1</td>\n",
       "      <td>1</td>\n",
       "      <td>False</td>\n",
       "      <td>True</td>\n",
       "      <td>False</td>\n",
       "      <td>True</td>\n",
       "      <td>False</td>\n",
       "      <td>...</td>\n",
       "      <td>False</td>\n",
       "      <td>False</td>\n",
       "      <td>True</td>\n",
       "      <td>False</td>\n",
       "      <td>False</td>\n",
       "      <td>True</td>\n",
       "      <td>False</td>\n",
       "      <td>False</td>\n",
       "      <td>False</td>\n",
       "      <td>False</td>\n",
       "    </tr>\n",
       "    <tr>\n",
       "      <th>2</th>\n",
       "      <td>0</td>\n",
       "      <td>1</td>\n",
       "      <td>0</td>\n",
       "      <td>1</td>\n",
       "      <td>1</td>\n",
       "      <td>False</td>\n",
       "      <td>True</td>\n",
       "      <td>False</td>\n",
       "      <td>True</td>\n",
       "      <td>False</td>\n",
       "      <td>...</td>\n",
       "      <td>False</td>\n",
       "      <td>False</td>\n",
       "      <td>True</td>\n",
       "      <td>False</td>\n",
       "      <td>False</td>\n",
       "      <td>True</td>\n",
       "      <td>False</td>\n",
       "      <td>False</td>\n",
       "      <td>False</td>\n",
       "      <td>False</td>\n",
       "    </tr>\n",
       "    <tr>\n",
       "      <th>3</th>\n",
       "      <td>0</td>\n",
       "      <td>1</td>\n",
       "      <td>1</td>\n",
       "      <td>1</td>\n",
       "      <td>1</td>\n",
       "      <td>False</td>\n",
       "      <td>False</td>\n",
       "      <td>True</td>\n",
       "      <td>False</td>\n",
       "      <td>True</td>\n",
       "      <td>...</td>\n",
       "      <td>True</td>\n",
       "      <td>False</td>\n",
       "      <td>False</td>\n",
       "      <td>False</td>\n",
       "      <td>False</td>\n",
       "      <td>True</td>\n",
       "      <td>False</td>\n",
       "      <td>False</td>\n",
       "      <td>False</td>\n",
       "      <td>False</td>\n",
       "    </tr>\n",
       "    <tr>\n",
       "      <th>4</th>\n",
       "      <td>0</td>\n",
       "      <td>1</td>\n",
       "      <td>0</td>\n",
       "      <td>0</td>\n",
       "      <td>0</td>\n",
       "      <td>False</td>\n",
       "      <td>True</td>\n",
       "      <td>False</td>\n",
       "      <td>False</td>\n",
       "      <td>True</td>\n",
       "      <td>...</td>\n",
       "      <td>True</td>\n",
       "      <td>False</td>\n",
       "      <td>False</td>\n",
       "      <td>False</td>\n",
       "      <td>False</td>\n",
       "      <td>True</td>\n",
       "      <td>False</td>\n",
       "      <td>False</td>\n",
       "      <td>False</td>\n",
       "      <td>False</td>\n",
       "    </tr>\n",
       "  </tbody>\n",
       "</table>\n",
       "<p>5 rows × 33 columns</p>\n",
       "</div>"
      ],
      "text/plain": [
       "   qtd_filhos  possui_celular  possui_fone_comercial  possui_fone  \\\n",
       "0           0               1                      0            0   \n",
       "1           0               1                      0            1   \n",
       "2           0               1                      0            1   \n",
       "3           0               1                      1            1   \n",
       "4           0               1                      0            0   \n",
       "\n",
       "   possui_email    mau  sexo_F  sexo_M  posse_de_veiculo_N  \\\n",
       "0             0  False   False    True               False   \n",
       "1             1  False    True   False                True   \n",
       "2             1  False    True   False                True   \n",
       "3             1  False   False    True               False   \n",
       "4             0  False    True   False               False   \n",
       "\n",
       "   posse_de_veiculo_Y  ...  estado_civil_Married  estado_civil_Separated  \\\n",
       "0                True  ...                  True                   False   \n",
       "1               False  ...                 False                   False   \n",
       "2               False  ...                 False                   False   \n",
       "3                True  ...                  True                   False   \n",
       "4                True  ...                  True                   False   \n",
       "\n",
       "   estado_civil_Single / not married  estado_civil_Widow  \\\n",
       "0                              False               False   \n",
       "1                               True               False   \n",
       "2                               True               False   \n",
       "3                              False               False   \n",
       "4                              False               False   \n",
       "\n",
       "   tipo_residencia_Co-op apartment  tipo_residencia_House / apartment  \\\n",
       "0                            False                               True   \n",
       "1                            False                               True   \n",
       "2                            False                               True   \n",
       "3                            False                               True   \n",
       "4                            False                               True   \n",
       "\n",
       "   tipo_residencia_Municipal apartment  tipo_residencia_Office apartment  \\\n",
       "0                                False                             False   \n",
       "1                                False                             False   \n",
       "2                                False                             False   \n",
       "3                                False                             False   \n",
       "4                                False                             False   \n",
       "\n",
       "   tipo_residencia_Rented apartment  tipo_residencia_With parents  \n",
       "0                             False                         False  \n",
       "1                             False                         False  \n",
       "2                             False                         False  \n",
       "3                             False                         False  \n",
       "4                             False                         False  \n",
       "\n",
       "[5 rows x 33 columns]"
      ]
     },
     "execution_count": 194,
     "metadata": {},
     "output_type": "execute_result"
    }
   ],
   "source": [
    "dummy_vars.head()"
   ]
  },
  {
   "cell_type": "code",
   "execution_count": 195,
   "metadata": {},
   "outputs": [
    {
     "data": {
      "text/plain": [
       "[2, 2, 2, 8, 5, 5, 5, 6, 5298, 3005, 1, 2, 2, 2, 9, 2]"
      ]
     },
     "execution_count": 195,
     "metadata": {},
     "output_type": "execute_result"
    }
   ],
   "source": [
    "col_names = dummy_vars.columns.tolist()\n",
    "qtd_vategorias = [len(dummy_vars[col].unique()) for col in col_names]\n",
    "qtd_categorias"
   ]
  },
  {
   "cell_type": "code",
   "execution_count": 196,
   "metadata": {},
   "outputs": [
    {
     "data": {
      "text/plain": [
       "Index(['possui_celular', 'possui_fone_comercial', 'possui_fone',\n",
       "       'possui_email', 'mau', 'sexo_F', 'sexo_M', 'posse_de_veiculo_N',\n",
       "       'posse_de_veiculo_Y', 'posse_de_imovel_N', 'posse_de_imovel_Y',\n",
       "       'tipo_renda_Commercial associate', 'tipo_renda_Pensioner',\n",
       "       'tipo_renda_State servant', 'tipo_renda_Student', 'tipo_renda_Working',\n",
       "       'educacao_Academic degree', 'educacao_Higher education',\n",
       "       'educacao_Incomplete higher', 'educacao_Lower secondary',\n",
       "       'educacao_Secondary / secondary special', 'estado_civil_Civil marriage',\n",
       "       'estado_civil_Married', 'estado_civil_Separated',\n",
       "       'estado_civil_Single / not married', 'estado_civil_Widow',\n",
       "       'tipo_residencia_Co-op apartment', 'tipo_residencia_House / apartment',\n",
       "       'tipo_residencia_Municipal apartment',\n",
       "       'tipo_residencia_Office apartment', 'tipo_residencia_Rented apartment',\n",
       "       'tipo_residencia_With parents'],\n",
       "      dtype='object')"
      ]
     },
     "execution_count": 196,
     "metadata": {},
     "output_type": "execute_result"
    }
   ],
   "source": [
    "dummy_vars = dummy_vars.drop('qtd_filhos', axis = 1)\n",
    "dummy_vars.columns"
   ]
  },
  {
   "cell_type": "markdown",
   "metadata": {
    "id": "uhaqFcPE_2sj"
   },
   "source": [
    "#### 4) Qual variável é mais poderosa?\n",
    "\n",
    "Considere as variáveis ```possui_email``` e ```posse_de_veiculo```. Faça uma tabela cruzada entre elas e responda qual delas te parece mais poderosa para prever a probabilidade de ```mau = 1```?"
   ]
  },
  {
   "cell_type": "code",
   "execution_count": 197,
   "metadata": {},
   "outputs": [
    {
     "data": {
      "text/html": [
       "<div>\n",
       "<style scoped>\n",
       "    .dataframe tbody tr th:only-of-type {\n",
       "        vertical-align: middle;\n",
       "    }\n",
       "\n",
       "    .dataframe tbody tr th {\n",
       "        vertical-align: top;\n",
       "    }\n",
       "\n",
       "    .dataframe thead th {\n",
       "        text-align: right;\n",
       "    }\n",
       "</style>\n",
       "<table border=\"1\" class=\"dataframe\">\n",
       "  <thead>\n",
       "    <tr style=\"text-align: right;\">\n",
       "      <th>posse_de_veiculo_Y</th>\n",
       "      <th>False</th>\n",
       "      <th>True</th>\n",
       "    </tr>\n",
       "    <tr>\n",
       "      <th>possui_email</th>\n",
       "      <th></th>\n",
       "      <th></th>\n",
       "    </tr>\n",
       "  </thead>\n",
       "  <tbody>\n",
       "    <tr>\n",
       "      <th>0</th>\n",
       "      <td>9341</td>\n",
       "      <td>5829</td>\n",
       "    </tr>\n",
       "    <tr>\n",
       "      <th>1</th>\n",
       "      <td>837</td>\n",
       "      <td>643</td>\n",
       "    </tr>\n",
       "  </tbody>\n",
       "</table>\n",
       "</div>"
      ],
      "text/plain": [
       "posse_de_veiculo_Y  False  True \n",
       "possui_email                    \n",
       "0                    9341   5829\n",
       "1                     837    643"
      ]
     },
     "execution_count": 197,
     "metadata": {},
     "output_type": "execute_result"
    }
   ],
   "source": [
    "pd.crosstab(dummy_vars['possui_email'], dummy_vars['posse_de_veiculo_Y'])"
   ]
  },
  {
   "cell_type": "markdown",
   "metadata": {
    "id": "G2Issl2e_2sj"
   },
   "source": [
    "#### 5) Salve a base, pois ela será utilizada no final deste módulo."
   ]
  },
  {
   "cell_type": "code",
   "execution_count": 205,
   "metadata": {
    "id": "KSEj8OL9_2sk"
   },
   "outputs": [
    {
     "name": "stdout",
     "output_type": "stream",
     "text": [
      "<class 'pandas.core.frame.DataFrame'>\n",
      "RangeIndex: 16650 entries, 0 to 16649\n",
      "Data columns (total 32 columns):\n",
      " #   Column                                  Non-Null Count  Dtype\n",
      "---  ------                                  --------------  -----\n",
      " 0   possui_celular                          16650 non-null  int64\n",
      " 1   possui_fone_comercial                   16650 non-null  int64\n",
      " 2   possui_fone                             16650 non-null  int64\n",
      " 3   possui_email                            16650 non-null  int64\n",
      " 4   mau                                     16650 non-null  bool \n",
      " 5   sexo_F                                  16650 non-null  bool \n",
      " 6   sexo_M                                  16650 non-null  bool \n",
      " 7   posse_de_veiculo_N                      16650 non-null  bool \n",
      " 8   posse_de_veiculo_Y                      16650 non-null  bool \n",
      " 9   posse_de_imovel_N                       16650 non-null  bool \n",
      " 10  posse_de_imovel_Y                       16650 non-null  bool \n",
      " 11  tipo_renda_Commercial associate         16650 non-null  bool \n",
      " 12  tipo_renda_Pensioner                    16650 non-null  bool \n",
      " 13  tipo_renda_State servant                16650 non-null  bool \n",
      " 14  tipo_renda_Student                      16650 non-null  bool \n",
      " 15  tipo_renda_Working                      16650 non-null  bool \n",
      " 16  educacao_Academic degree                16650 non-null  bool \n",
      " 17  educacao_Higher education               16650 non-null  bool \n",
      " 18  educacao_Incomplete higher              16650 non-null  bool \n",
      " 19  educacao_Lower secondary                16650 non-null  bool \n",
      " 20  educacao_Secondary / secondary special  16650 non-null  bool \n",
      " 21  estado_civil_Civil marriage             16650 non-null  bool \n",
      " 22  estado_civil_Married                    16650 non-null  bool \n",
      " 23  estado_civil_Separated                  16650 non-null  bool \n",
      " 24  estado_civil_Single / not married       16650 non-null  bool \n",
      " 25  estado_civil_Widow                      16650 non-null  bool \n",
      " 26  tipo_residencia_Co-op apartment         16650 non-null  bool \n",
      " 27  tipo_residencia_House / apartment       16650 non-null  bool \n",
      " 28  tipo_residencia_Municipal apartment     16650 non-null  bool \n",
      " 29  tipo_residencia_Office apartment        16650 non-null  bool \n",
      " 30  tipo_residencia_Rented apartment        16650 non-null  bool \n",
      " 31  tipo_residencia_With parents            16650 non-null  bool \n",
      "dtypes: bool(28), int64(4)\n",
      "memory usage: 975.7 KB\n"
     ]
    }
   ],
   "source": [
    "dummy_vars.info()"
   ]
  },
  {
   "cell_type": "code",
   "execution_count": 207,
   "metadata": {},
   "outputs": [],
   "source": [
    "dummy_vars.to_csv('dummy.csv', index = False)"
   ]
  }
 ],
 "metadata": {
  "colab": {
   "provenance": []
  },
  "kernelspec": {
   "display_name": "anaconda-panel-2023.05-py310",
   "language": "python",
   "name": "conda-env-anaconda-panel-2023.05-py310-py"
  },
  "language_info": {
   "codemirror_mode": {
    "name": "ipython",
    "version": 3
   },
   "file_extension": ".py",
   "mimetype": "text/x-python",
   "name": "python",
   "nbconvert_exporter": "python",
   "pygments_lexer": "ipython3",
   "version": "3.11.5"
  }
 },
 "nbformat": 4,
 "nbformat_minor": 4
}
