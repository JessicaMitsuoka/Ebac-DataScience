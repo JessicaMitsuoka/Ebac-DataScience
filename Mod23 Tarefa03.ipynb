{
 "cells": [
  {
   "cell_type": "markdown",
   "id": "9cae844e-ff53-4f9c-ade9-4dcb9a888d6a",
   "metadata": {},
   "source": [
    "# Tarefa3"
   ]
  },
  {
   "cell_type": "markdown",
   "id": "5ef326ac-17d6-46f2-aca4-3ccd2e671b8b",
   "metadata": {},
   "source": [
    "## 1. Quais são os hyperparâmetros do RF?\n",
    "\n",
    "- n_estimators\n",
    "- criterion\n",
    "- max_depth\n",
    "- min_samples_split\n",
    "- min_samples_leaf\n",
    "- min_weight_fraction_leaf\n",
    "- max_features\n",
    "- max_leaf_nodes\n",
    "- min_impurity_decrease\n",
    "- bootstrap\n",
    "- oob_score\n",
    "- n_jobs\n",
    "- random_state\n",
    "- verbose\n",
    "- warm_start\n",
    "- class_weight\n",
    "- ccp_alpha\n",
    "- max_samples"
   ]
  },
  {
   "cell_type": "markdown",
   "id": "a0635cdd-b1cc-4be6-b433-a8d09e3ec01b",
   "metadata": {},
   "source": [
    "## 2. Pra que serve cada um deles?\n",
    "\n",
    "- **n_estimators**: Define o número de árvores na floresta.\n",
    "- **criterion**: Função para medir a qualidade da divisão.\n",
    "- **max_depth**: Controla a profundidade máxima de cada árvore.\n",
    "- **min_samples_split**: Define o número mínimo de amostras necessárias para dividir um nó.\n",
    "- **min_samples_leaf**: Define o número mínimo de amostras em uma folha para que seja considerada válida na divisão\n",
    "- **min_weight_fraction_leaf**: Define a fração mínima do peso total das amostras que devem estar em uma folha.\n",
    "- **max_features**: Número máximo de variáveis a serem consideradas para a melhor divisão.\n",
    "- **max_leaf_nodes**: Define o número máximo de folhas em cada árvore.\n",
    "- **min_impurity_decrease**: Define o valor mínimo de redução de impureza necessário para dividir um nó.\n",
    "- **bootstrap**: Define se o método Bootstrap será utilizado.\n",
    "- **oob_score**: Define se deve usar amostras out-of-bag para estimar a precisão do modelo.\n",
    "- **n_jobs**: Define o número de jobs a serem executados em paralelo para o treinamento e predição.\n",
    "- **random_state**: Controla a aleatoriedade do bootstrap das amostras e da seleção de features.\n",
    "- **verbose**: Controla o detalhamento das mensagens nos processos de treino e previsão do modelo.\n",
    "- **warm_start**: Possibilita o reuso do treino anterior adicionando mais árvores ao modelo.\n",
    "- **class_weight**: Define o peso de cada classe, possibilitando equilíbrio proporcional entre elas.\n",
    "- **ccp_alpha**: Parâmetro de complexidade usado para controlar a pós-poda da árvore. Quanto maior o valor, maior será a poda.\n",
    "- **max_samples**: Define o número máximo de amostras a serem usadas para treinar cada árvore."
   ]
  }
 ],
 "metadata": {
  "kernelspec": {
   "display_name": "Python [conda env:base] *",
   "language": "python",
   "name": "conda-base-py"
  },
  "language_info": {
   "codemirror_mode": {
    "name": "ipython",
    "version": 3
   },
   "file_extension": ".py",
   "mimetype": "text/x-python",
   "name": "python",
   "nbconvert_exporter": "python",
   "pygments_lexer": "ipython3",
   "version": "3.12.7"
  }
 },
 "nbformat": 4,
 "nbformat_minor": 5
}
