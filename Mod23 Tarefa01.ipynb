{
 "cells": [
  {
   "cell_type": "markdown",
   "id": "c0fe2953-2693-4d40-801d-da468ce6d9f6",
   "metadata": {},
   "source": [
    "## Tarefa 1\n",
    "\n",
    "1. Monte um passo a passo para o Bagging\n",
    "2. Explique com suas palavras o Bagging\n",
    "3. (Opcional) Implementar em pythono código do Bagging–Bootstrap–Modelagem–Agregação"
   ]
  },
  {
   "cell_type": "markdown",
   "id": "2714acde-da70-4ffe-b530-1e4e60d98cd2",
   "metadata": {},
   "source": [
    "Passo 1: Escolha um Modelo Base\n",
    "\n",
    "Passo 2: Gere Conjuntos de Dados de Treinamento\n",
    "\n",
    "Passo 3: Treine Modelos Independentes\n",
    "\n",
    "Passo 4: Faça Previsões\n",
    "\n",
    "Passo 5: Combine as Previsões\n",
    "\n",
    "Passo 6: Avalie o Desempenho\n",
    "\n",
    "Passo 7: Otimize"
   ]
  },
  {
   "cell_type": "markdown",
   "id": "16bba1ea-b1b5-40ca-90ca-bda9a2d2947d",
   "metadata": {},
   "source": [
    "Bagging (Bootstrap Aggregating) é uma técnica de aprendizado de máquina usada para melhorar a precisão e reduzir a variância de modelos preditivos. Ele funciona treinando múltiplos modelos independentes em subconjuntos aleatórios dos dados e combinando suas previsões."
   ]
  },
  {
   "cell_type": "code",
   "execution_count": 63,
   "id": "1a6b939e-6d2d-479e-bec8-52c418e6061d",
   "metadata": {},
   "outputs": [],
   "source": [
    "from sklearn.datasets import load_iris\n",
    "from sklearn.model_selection import train_test_split\n",
    "from sklearn.ensemble import BaggingClassifier\n",
    "from sklearn.tree import DecisionTreeClassifier\n",
    "from sklearn.metrics import accuracy_score"
   ]
  },
  {
   "cell_type": "code",
   "execution_count": 50,
   "id": "e9ab68ca-6fd5-4c6c-bc11-564bdac7c6ea",
   "metadata": {},
   "outputs": [
    {
     "name": "stdout",
     "output_type": "stream",
     "text": [
      "Acurácia do modelo Bagging: 1.00\n"
     ]
    }
   ],
   "source": [
    "iris = load_iris()\n",
    "X, y = iris.data, iris.target\n",
    "\n",
    "X_train, X_test, y_train, y_test = train_test_split(X, y, test_size=0.2, random_state=42)\n",
    "\n",
    "base_model = DecisionTreeClassifier(random_state=42)\n",
    "\n",
    "bagging_model = BaggingClassifier(base_model, n_estimators=10, random_state=42)\n",
    "\n",
    "bagging_model.fit(X_train, y_train)\n",
    "\n",
    "predictions = bagging_model.predict(X_test)\n",
    "\n",
    "accuracy = accuracy_score(y_test, predictions)\n",
    "print(f'Acurácia do modelo Bagging: {accuracy:.2f}')"
   ]
  }
 ],
 "metadata": {
  "kernelspec": {
   "display_name": "Python [conda env:base] *",
   "language": "python",
   "name": "conda-base-py"
  },
  "language_info": {
   "codemirror_mode": {
    "name": "ipython",
    "version": 3
   },
   "file_extension": ".py",
   "mimetype": "text/x-python",
   "name": "python",
   "nbconvert_exporter": "python",
   "pygments_lexer": "ipython3",
   "version": "3.12.7"
  }
 },
 "nbformat": 4,
 "nbformat_minor": 5
}
