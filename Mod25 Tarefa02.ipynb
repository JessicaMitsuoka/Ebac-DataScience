{
 "cells": [
  {
   "cell_type": "markdown",
   "metadata": {},
   "source": [
    "# Cálculo - Tarefa 02\n",
    "\n",
    "1- Calcule de forma numérica a integral da função $x^3$ avaliada entre os pontos $1$ e $2$. Identifique o número de retângulos que você usou.  \n",
    "2- Calcule essa área de forma analítica."
   ]
  },
  {
   "cell_type": "code",
   "execution_count": 64,
   "metadata": {},
   "outputs": [],
   "source": [
    "import numpy as np"
   ]
  },
  {
   "cell_type": "code",
   "execution_count": 66,
   "metadata": {},
   "outputs": [],
   "source": [
    "f = lambda x: x**3\n",
    "\n",
    "def calcular_area(a: int, b: int, func: callable, n_ret: int) -> float:\n",
    "    delta = (b - a) / n_ret  \n",
    "    x_cols = np.linspace(a, b - delta, n_ret) + delta / 2 \n",
    "    y_cols = func(x_cols) \n",
    "\n",
    "    print(f'Número de retângulos = {n_ret}')\n",
    "    print(f'Delta = {delta}')\n",
    "\n",
    "    return sum(delta * y_cols) "
   ]
  },
  {
   "cell_type": "code",
   "execution_count": 68,
   "metadata": {},
   "outputs": [
    {
     "name": "stdout",
     "output_type": "stream",
     "text": [
      "Número de retângulos = 4\n",
      "Delta = 0.25\n"
     ]
    },
    {
     "data": {
      "text/plain": [
       "3.7265625"
      ]
     },
     "execution_count": 68,
     "metadata": {},
     "output_type": "execute_result"
    }
   ],
   "source": [
    "calcular_area(a=1, b=2, func=f, n_ret=4)"
   ]
  },
  {
   "cell_type": "code",
   "execution_count": 70,
   "metadata": {},
   "outputs": [
    {
     "name": "stdout",
     "output_type": "stream",
     "text": [
      "Número de retângulos = 100\n",
      "Delta = 0.01\n"
     ]
    },
    {
     "data": {
      "text/plain": [
       "3.7499624999999996"
      ]
     },
     "execution_count": 70,
     "metadata": {},
     "output_type": "execute_result"
    }
   ],
   "source": [
    "calcular_area(a=1, b=2, func=f, n_ret=100)"
   ]
  },
  {
   "cell_type": "markdown",
   "metadata": {},
   "source": [
    "# 2. Calculando de forma analítica\n",
    "\n",
    "Resolvendo primeiramente sem os limites de integração:\n",
    "\n",
    "$$\n",
    "F(y) = \\int f(x^3) \\, dx\n",
    "$$\n",
    "\n",
    "Integrando \\( f(x^3) \\):\n",
    "\n",
    "$$\n",
    "F(y) = \\int x^3 \\, dx = \\frac{1}{3+1} \\cdot x^{3+1} + C\n",
    "$$\n",
    "\n",
    "Simplificando:\n",
    "\n",
    "$$\n",
    "F(y) = \\frac{1}{4} \\cdot x^{4} + C\n",
    "$$\n",
    "\n",
    "Aplicando os limites de integração de 1 a 2:\n",
    "\n",
    "$$\n",
    "F(y) = \\int_1^2 x^3 \\, dx = F(2) - F(1)\n",
    "$$\n",
    "\n",
    "Substituindo os valores:\n",
    "\n",
    "$$\n",
    "F(2) = \\frac{1}{4} \\cdot 2^{4} = \\frac{16}{4} = 4\n",
    "$$\n",
    "\n",
    "$$\n",
    "F(1) = \\frac{1}{4} \\cdot 1^{4} = \\frac{1}{4}\n",
    "$$\n",
    "\n",
    "Calculando a diferença:\n",
    "\n",
    "$$\n",
    "F(2) - F(1) = 4 - \\frac{1}{4} = \\frac{16}{4} - \\frac{1}{4} = \\frac{15}{4}\n",
    "$$\n",
    "\n",
    "O valor da área é:\n",
    "\n",
    "**$$ 3.75 $$**"
   ]
  }
 ],
 "metadata": {
  "kernelspec": {
   "display_name": "Python [conda env:base] *",
   "language": "python",
   "name": "conda-base-py"
  },
  "language_info": {
   "codemirror_mode": {
    "name": "ipython",
    "version": 3
   },
   "file_extension": ".py",
   "mimetype": "text/x-python",
   "name": "python",
   "nbconvert_exporter": "python",
   "pygments_lexer": "ipython3",
   "version": "3.12.7"
  },
  "toc": {
   "base_numbering": 1,
   "nav_menu": {},
   "number_sections": true,
   "sideBar": true,
   "skip_h1_title": true,
   "title_cell": "Índice",
   "title_sidebar": "Conteúdo",
   "toc_cell": false,
   "toc_position": {},
   "toc_section_display": true,
   "toc_window_display": false
  },
  "varInspector": {
   "cols": {
    "lenName": 16,
    "lenType": 16,
    "lenVar": 40
   },
   "kernels_config": {
    "python": {
     "delete_cmd_postfix": "",
     "delete_cmd_prefix": "del ",
     "library": "var_list.py",
     "varRefreshCmd": "print(var_dic_list())"
    },
    "r": {
     "delete_cmd_postfix": ") ",
     "delete_cmd_prefix": "rm(",
     "library": "var_list.r",
     "varRefreshCmd": "cat(var_dic_list()) "
    }
   },
   "types_to_exclude": [
    "module",
    "function",
    "builtin_function_or_method",
    "instance",
    "_Feature"
   ],
   "window_display": false
  }
 },
 "nbformat": 4,
 "nbformat_minor": 4
}
